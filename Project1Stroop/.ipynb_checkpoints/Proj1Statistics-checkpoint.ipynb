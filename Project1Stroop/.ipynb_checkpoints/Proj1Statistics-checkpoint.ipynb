{
 "cells": [
  {
   "cell_type": "code",
   "execution_count": 1,
   "metadata": {
    "collapsed": true
   },
   "outputs": [],
   "source": [
    "from IPython.display import display"
   ]
  },
  {
   "cell_type": "markdown",
   "metadata": {},
   "source": [
    "# \"Statistics: The Science of Decisions\"\n",
    "\n",
    "This notebook is for submission to Udacity for the completion of the \"Statistics: The Science of Decisions\" - Project 1 of the Data Analyist Nanodegree.\n",
    "\n",
    "Student Name: Arthur DeGraw"
   ]
  },
  {
   "cell_type": "markdown",
   "metadata": {},
   "source": [
    "# Background:\n",
    "In a Stroop task, participants are presented with a list of words, with each word displayed in a color of ink. The participant’s task is to say out loud the color of the ink in which the word is printed. The task has two conditions: a congruent words condition, and an incongruent words condition. In the congruent words condition, the words being displayed are color words whose names match the colors in which they are printed: for example RED, BLUE. In the incongruent words condition, the words displayed are color words whose names do not match the colors in which they are printed: for example PURPLE, ORANGE. In each case, we measure the time it takes to name the ink colors in equally-sized lists. Each participant will go through and record a time from each condition."
   ]
  },
  {
   "cell_type": "markdown",
   "metadata": {},
   "source": [
    "# Load pandas, math, etc libraries and the dataset"
   ]
  },
  {
   "cell_type": "code",
   "execution_count": 2,
   "metadata": {
    "collapsed": false
   },
   "outputs": [],
   "source": [
    "import pandas as pd\n",
    "import math\n",
    "import matplotlib.pyplot as plt\n",
    "import matplotlib.style as style\n",
    "style.use('ggplot')\n",
    "%matplotlib inline\n",
    "from scipy.stats import ttest_rel, t"
   ]
  },
  {
   "cell_type": "code",
   "execution_count": 3,
   "metadata": {
    "collapsed": false
   },
   "outputs": [
    {
     "data": {
      "text/html": [
       "<div>\n",
       "<table border=\"1\" class=\"dataframe\">\n",
       "  <thead>\n",
       "    <tr style=\"text-align: right;\">\n",
       "      <th></th>\n",
       "      <th>Congruent</th>\n",
       "      <th>Incongruent</th>\n",
       "    </tr>\n",
       "  </thead>\n",
       "  <tbody>\n",
       "    <tr>\n",
       "      <th>0</th>\n",
       "      <td>12.079</td>\n",
       "      <td>19.278</td>\n",
       "    </tr>\n",
       "    <tr>\n",
       "      <th>1</th>\n",
       "      <td>16.791</td>\n",
       "      <td>18.741</td>\n",
       "    </tr>\n",
       "    <tr>\n",
       "      <th>2</th>\n",
       "      <td>9.564</td>\n",
       "      <td>21.214</td>\n",
       "    </tr>\n",
       "    <tr>\n",
       "      <th>3</th>\n",
       "      <td>8.630</td>\n",
       "      <td>15.687</td>\n",
       "    </tr>\n",
       "    <tr>\n",
       "      <th>4</th>\n",
       "      <td>14.669</td>\n",
       "      <td>22.803</td>\n",
       "    </tr>\n",
       "  </tbody>\n",
       "</table>\n",
       "</div>"
      ],
      "text/plain": [
       "   Congruent  Incongruent\n",
       "0     12.079       19.278\n",
       "1     16.791       18.741\n",
       "2      9.564       21.214\n",
       "3      8.630       15.687\n",
       "4     14.669       22.803"
      ]
     },
     "execution_count": 3,
     "metadata": {},
     "output_type": "execute_result"
    }
   ],
   "source": [
    "stroop_df = pd.read_csv(\"stroopdata.csv\")\n",
    "stroop_df.head()"
   ]
  },
  {
   "cell_type": "markdown",
   "metadata": {},
   "source": [
    "# 1. What is our independent variable? What is our dependent variable?\n",
    "The independent variable are the classes of congruent/incongruent words and colors. The dependent variable is the average length of time to respond in each of the congruent/incongruent classes."
   ]
  },
  {
   "cell_type": "markdown",
   "metadata": {},
   "source": [
    "# 2. What is an appropriate set of hypotheses for this task? What kind of statistical test do you expect to perform? Justify your choices.\n",
    "\n",
    "If mu_c and mu_i are the population average response times for congruent and incongruent classes respectively and mu_d=mu_i-mu_c then an appropriate set of hypotheses are: \n",
    "\n",
    "null: H_0: mu_d = 0\n",
    "alt:  H_1: mu_d > 0\n",
    "\n",
    "We will use an alpha level of 5% for this test.\n",
    "\n",
    "That is: Does the incongruent class generally take longer to respond to than the congruent class?  This choice was made as intuitively one would expect the test taker to have to filter the word and the color separately before responding in the incongruent class.\n",
    "\n",
    "The test to be performed will be a t-test for difference of means with paired sample.  This is because the same people took both tests, so the values are not independent between the two tests.  Furthermore, the population standard deviation is not known so must be estimated from the sample data (t-test)"
   ]
  },
  {
   "cell_type": "markdown",
   "metadata": {},
   "source": [
    "# 3. Report some descriptive statistics regarding this dataset. Include at least one measure of central tendency and at least one measure of variability."
   ]
  },
  {
   "cell_type": "code",
   "execution_count": 4,
   "metadata": {
    "collapsed": false
   },
   "outputs": [
    {
     "data": {
      "text/html": [
       "<div>\n",
       "<table border=\"1\" class=\"dataframe\">\n",
       "  <thead>\n",
       "    <tr style=\"text-align: right;\">\n",
       "      <th></th>\n",
       "      <th>Congruent</th>\n",
       "      <th>Incongruent</th>\n",
       "    </tr>\n",
       "  </thead>\n",
       "  <tbody>\n",
       "    <tr>\n",
       "      <th>count</th>\n",
       "      <td>24.000000</td>\n",
       "      <td>24.000000</td>\n",
       "    </tr>\n",
       "    <tr>\n",
       "      <th>mean</th>\n",
       "      <td>14.051125</td>\n",
       "      <td>22.015917</td>\n",
       "    </tr>\n",
       "    <tr>\n",
       "      <th>std</th>\n",
       "      <td>3.559358</td>\n",
       "      <td>4.797057</td>\n",
       "    </tr>\n",
       "    <tr>\n",
       "      <th>min</th>\n",
       "      <td>8.630000</td>\n",
       "      <td>15.687000</td>\n",
       "    </tr>\n",
       "    <tr>\n",
       "      <th>25%</th>\n",
       "      <td>11.895250</td>\n",
       "      <td>18.716750</td>\n",
       "    </tr>\n",
       "    <tr>\n",
       "      <th>50%</th>\n",
       "      <td>14.356500</td>\n",
       "      <td>21.017500</td>\n",
       "    </tr>\n",
       "    <tr>\n",
       "      <th>75%</th>\n",
       "      <td>16.200750</td>\n",
       "      <td>24.051500</td>\n",
       "    </tr>\n",
       "    <tr>\n",
       "      <th>max</th>\n",
       "      <td>22.328000</td>\n",
       "      <td>35.255000</td>\n",
       "    </tr>\n",
       "  </tbody>\n",
       "</table>\n",
       "</div>"
      ],
      "text/plain": [
       "       Congruent  Incongruent\n",
       "count  24.000000    24.000000\n",
       "mean   14.051125    22.015917\n",
       "std     3.559358     4.797057\n",
       "min     8.630000    15.687000\n",
       "25%    11.895250    18.716750\n",
       "50%    14.356500    21.017500\n",
       "75%    16.200750    24.051500\n",
       "max    22.328000    35.255000"
      ]
     },
     "execution_count": 4,
     "metadata": {},
     "output_type": "execute_result"
    }
   ],
   "source": [
    "stroop_df.describe()"
   ]
  },
  {
   "cell_type": "markdown",
   "metadata": {},
   "source": [
    "The median time for response for the congruent and incongruent classes are 14.35 seconds and 21.02 seconds respectively.  Seconds were assumed to be the units of measure since the webpage test reports time in seconds.  The mean and standard deviation for the congruent class are 14.05 seconds and 3.56 seconds respectively.  The longest time recorded in the sample for completing the tests are 22.33 seconds and 35.26 seconds respectively for the congruent and incongruent classes respectively."
   ]
  },
  {
   "cell_type": "markdown",
   "metadata": {},
   "source": [
    "# 4. Provide one or two visualizations that show the distribution of the sample data. Write one or two sentences noting what you observe about the plot or plots."
   ]
  },
  {
   "cell_type": "markdown",
   "metadata": {},
   "source": [
    "# Calculating the I-C values column"
   ]
  },
  {
   "cell_type": "code",
   "execution_count": 5,
   "metadata": {
    "collapsed": true
   },
   "outputs": [],
   "source": [
    "stroop_df['diff(Inc-Con)'] = stroop_df['Incongruent'] - stroop_df['Congruent']"
   ]
  },
  {
   "cell_type": "markdown",
   "metadata": {},
   "source": [
    "# Using matplotlib.pyplot to generate some histograms for visualization of distributions."
   ]
  },
  {
   "cell_type": "code",
   "execution_count": 6,
   "metadata": {
    "collapsed": false
   },
   "outputs": [
    {
     "data": {
      "image/png": "[encoded data removed]",
      "text/plain": [
       "<matplotlib.figure.Figure at 0x7fbb73adbc50>"
      ]
     },
     "metadata": {},
     "output_type": "display_data"
    }
   ],
   "source": [
    "fig=plt.figure(figsize=(10,10))\n",
    "ax=plt.subplot(221)\n",
    "ax.hist(stroop_df['Congruent'], color='blue')\n",
    "ax.set_xlim((0,36))\n",
    "ax.set_xlabel(\"Seconds\")\n",
    "ax.set_ylabel(\"Count\")\n",
    "ax.set_title(\"Congruent Class Times\")\n",
    "ax1=plt.subplot(223)\n",
    "ax1.hist(stroop_df['Incongruent'], color='green')\n",
    "ax1.set_xlim((0,36))\n",
    "ax1.set_xlabel(\"Seconds\")\n",
    "ax1.set_ylabel(\"Count\")\n",
    "ax1.set_title(\"Incongruent Class Times\")\n",
    "ax2=plt.subplot(122)\n",
    "ax2.hist(stroop_df['diff(Inc-Con)'], color='red')\n",
    "ax2.set_xlim((0,36))\n",
    "ax2.set_xlabel(\"Seconds\")\n",
    "ax2.set_ylabel(\"Count\")\n",
    "ax2.set_title(\"Incongruent - Congruent Class Times\")\n",
    "plt.tight_layout(pad=0.4, w_pad=0.5, h_pad=1.0)\n",
    "plt.show()"
   ]
  },
  {
   "cell_type": "markdown",
   "metadata": {},
   "source": [
    "The three histograms illustrate that the difference in times between the two tests are generally in the favor of Incongruent taking longer."
   ]
  },
  {
   "cell_type": "markdown",
   "metadata": {},
   "source": [
    "# Exploratory data analysis with a scatter_matrix"
   ]
  },
  {
   "cell_type": "code",
   "execution_count": 7,
   "metadata": {
    "collapsed": false,
    "scrolled": false
   },
   "outputs": [
    {
     "data": {
      "image/png": "[encoded data removed]",
      "text/plain": [
       "<matplotlib.figure.Figure at 0x7fbb73adb1d0>"
      ]
     },
     "metadata": {},
     "output_type": "display_data"
    }
   ],
   "source": [
    "plot = pd.scatter_matrix(stroop_df, figsize=(10,10), marker='o')"
   ]
  },
  {
   "cell_type": "markdown",
   "metadata": {},
   "source": [
    "Not really anything to be gathered from the scatter plots."
   ]
  },
  {
   "cell_type": "markdown",
   "metadata": {},
   "source": [
    "# And of course, we can look at a box plot to see how the sample data is spread as well. (Using dataframe method)"
   ]
  },
  {
   "cell_type": "code",
   "execution_count": 8,
   "metadata": {
    "collapsed": false
   },
   "outputs": [
    {
     "data": {
      "image/png": "[encoded data removed]",
      "text/plain": [
       "<matplotlib.figure.Figure at 0x7fbb710537b8>"
      ]
     },
     "metadata": {},
     "output_type": "display_data"
    }
   ],
   "source": [
    "box = stroop_df.boxplot(figsize=(5,5), return_type='dict')"
   ]
  },
  {
   "cell_type": "markdown",
   "metadata": {},
   "source": [
    "The boxplots show a clear difference in the central 50% between the length of the tests for the Congruent and Incongruent classes."
   ]
  },
  {
   "cell_type": "markdown",
   "metadata": {},
   "source": [
    "# 5. Now, perform the statistical test and report your results. What is your confidence level and your critical statistic value? Do you reject the null hypothesis or fail to reject it? Come to a conclusion in terms of the experiment task. Did the results match up with your expectations?"
   ]
  },
  {
   "cell_type": "markdown",
   "metadata": {},
   "source": [
    "The test to be performed required computing the mean of the differences in times, the standard error for a paired t-test and the p-value.  "
   ]
  },
  {
   "cell_type": "code",
   "execution_count": 9,
   "metadata": {
    "collapsed": false
   },
   "outputs": [
    {
     "name": "stdout",
     "output_type": "stream",
     "text": [
      "The difference Incongruent-Congruent has mean 7.9648\n",
      "The standard error for Incongruent-Congruent for the sample is 0.9930\n",
      "The observed t value is 8.0207 standard errors from 0\n",
      "The p-value for the hypothesis test is p= 2.0515e-08\n",
      "\n",
      "Since p<alpha=0.05 we reject the null hypothesis as there is statistically significant evidence to support the alternative hypothesis.\n"
     ]
    }
   ],
   "source": [
    "diff_mean = stroop_df['diff(Inc-Con)'].mean()\n",
    "print(\"The difference Incongruent-Congruent has mean %0.4f\" % diff_mean)\n",
    "st_error = stroop_df['diff(Inc-Con)'].std() / (len(stroop_df) ** 0.5)\n",
    "print(\"The standard error for Incongruent-Congruent for the sample is %0.4f\" % st_error)\n",
    "observed_t_score = (diff_mean - 0) / st_error\n",
    "print(\"The observed t value is %0.4f standard errors from 0\" % observed_t_score)\n",
    "\n",
    "#Since a right tail test then 1-cdf\n",
    "p = 1-t.cdf(observed_t_score, df=(len(stroop_df['diff(Inc-Con)']) - 1))\n",
    "print(\"The p-value for the hypothesis test is p= %.04e\" % p)\n",
    "\n",
    "if p >= 0.05:\n",
    "    print(\"Since p>alpha=0.05 we fail to reject the null hypothesis.\")\n",
    "elif p<0.05:\n",
    "    print(\"\\nSince p<alpha=0.05 we reject the null hypothesis as there is statistically \\\n",
    "significant evidence to support the alternative hypothesis.\")"
   ]
  },
  {
   "cell_type": "markdown",
   "metadata": {},
   "source": [
    "# We could alternatively use the built in scipy t-test for related samples."
   ]
  },
  {
   "cell_type": "code",
   "execution_count": 10,
   "metadata": {
    "collapsed": false
   },
   "outputs": [
    {
     "name": "stdout",
     "output_type": "stream",
     "text": [
      "Using Scipy's build in t-test for related samples: observed t = 8.0207 ,p value = 2.0515e-08\n"
     ]
    }
   ],
   "source": [
    "t_val, p_val = ttest_rel(stroop_df['Incongruent'], stroop_df['Congruent'], 0)\n",
    "print(\"Using Scipy's build in t-test for related samples: observed t = %0.04f ,\\\n",
    "p value = %.04e\" % (t_val, p_val/2))"
   ]
  },
  {
   "cell_type": "code",
   "execution_count": null,
   "metadata": {
    "collapsed": false
   },
   "outputs": [],
   "source": []
  },
  {
   "cell_type": "code",
   "execution_count": null,
   "metadata": {
    "collapsed": false
   },
   "outputs": [],
   "source": []
  },
  {
   "cell_type": "markdown",
   "metadata": {},
   "source": [
    "# References"
   ]
  },
  {
   "cell_type": "markdown",
   "metadata": {
    "collapsed": true
   },
   "source": [
    "http://pandas.pydata.org/pandas-docs/version/0.15.0/visualization.html\n",
    "\n",
    "http://matplotlib.org/users/tight_layout_guide.html\n"
   ]
  },
  {
   "cell_type": "code",
   "execution_count": null,
   "metadata": {
    "collapsed": true
   },
   "outputs": [],
   "source": []
  }
 ],
 "metadata": {
  "anaconda-cloud": {},
  "kernelspec": {
   "display_name": "Python [Root]",
   "language": "python",
   "name": "Python [Root]"
  },
  "language_info": {
   "codemirror_mode": {
    "name": "ipython",
    "version": 3
   },
   "file_extension": ".py",
   "mimetype": "text/x-python",
   "name": "python",
   "nbconvert_exporter": "python",
   "pygments_lexer": "ipython3",
   "version": "3.5.2"
  }
 },
 "nbformat": 4,
 "nbformat_minor": 0
}
